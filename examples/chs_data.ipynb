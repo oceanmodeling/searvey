{
 "cells": [
  {
   "cell_type": "markdown",
   "metadata": {},
   "source": [
    "## Get the stations"
   ]
  },
  {
   "cell_type": "code",
   "execution_count": null,
   "metadata": {},
   "outputs": [],
   "source": [
    "from searvey._chs_api import get_chs_stations\n",
    "\n",
    "all_stations = get_chs_stations()"
   ]
  },
  {
   "cell_type": "markdown",
   "metadata": {},
   "source": [
    "## Plot them in a map"
   ]
  },
  {
   "cell_type": "code",
   "execution_count": null,
   "metadata": {},
   "outputs": [],
   "source": [
    "import geopandas as gpd\n",
    "import hvplot.pandas\n",
    "import pandas as pd\n",
    "def plot_map(data, title):\n",
    "    # Plot the world map\n",
    "    world_plot = data.hvplot(geo=True, tiles=True, hover_cols=[\"id\",\"officialName\"], title=title)\n",
    "    return world_plot.opts(width=800, height=500)\n",
    "\n",
    "plot_map(all_stations, 'CHS Stations')"
   ]
  },
  {
   "cell_type": "markdown",
   "metadata": {},
   "source": [
    "## Get stations from a specific region and plot them"
   ]
  },
  {
   "cell_type": "code",
   "execution_count": null,
   "metadata": {},
   "outputs": [],
   "source": [
    "from shapely.geometry import box\n",
    "# Define a rectangular region\n",
    "region = box(-150, 40, -110, 60)  # Longitude range, Latitude range\n",
    "\n",
    "# Get stations within the region\n",
    "east_coast_stations = get_chs_stations(region=region)\n",
    "plot_map(east_coast_stations, 'CHS Stations on the East Coast of Canada')"
   ]
  },
  {
   "cell_type": "markdown",
   "metadata": {},
   "source": [
    "## Get data from a specific CHS station\n",
    "To get data from a specific station you need to input one of the codes below:\n",
    "\n",
    "- wlo - Observed water level\n",
    "- wlf or wlf-spine - predicted water levels (at operational stations only)\n",
    "- wlp - Predicted water levels\n",
    "- wlp-hilo High and low sea predictions (Tide tables)\n",
    "\n",
    "Note: Some stations may not support a specific code/type of data"
   ]
  },
  {
   "cell_type": "code",
   "execution_count": null,
   "metadata": {},
   "outputs": [],
   "source": [
    "from searvey._chs_api import fetch_chs_station\n",
    "# Get data for selected stations\n",
    "data_df = fetch_chs_station(\n",
    "    station_id=\"5cebf1e33d0f4a073c4bc23e\",\n",
    "    time_series_code=\"wlo\",\n",
    "    start_date=\"2023-01-08\",\n",
    "    end_date=\"2023-01-10\",\n",
    ")\n",
    "\n",
    "data_df"
   ]
  },
  {
   "cell_type": "markdown",
   "metadata": {},
   "source": [
    "## Get data from multiple stations"
   ]
  },
  {
   "cell_type": "code",
   "execution_count": null,
   "metadata": {},
   "outputs": [],
   "source": [
    "from searvey._chs_api import _fetch_chs\n",
    "\n",
    "data_df = _fetch_chs(\n",
    "    station_ids=[\"5cebf1de3d0f4a073c4bbad5\",\"5cebf1e33d0f4a073c4bc23e\"],\n",
    "    time_series_code=\"wlo\",\n",
    "    start_dates=\"2023-01-08\",\n",
    "    end_dates=\"2023-01-11\",\n",
    ")\n",
    "\n",
    "data_df[\"5cebf1de3d0f4a073c4bbad5\"]"
   ]
  },
  {
   "cell_type": "markdown",
   "metadata": {},
   "source": [
    "## Plot the data"
   ]
  },
  {
   "cell_type": "code",
   "execution_count": null,
   "metadata": {},
   "outputs": [],
   "source": [
    "data_df[\"value\"].hvplot(title=\"CHS values\", xlabel=\"Index\", ylabel=\"Value\")\n"
   ]
  }
 ],
 "metadata": {
  "kernelspec": {
   "display_name": "Python 3",
   "language": "python",
   "name": "python3"
  },
  "language_info": {
   "codemirror_mode": {
    "name": "ipython",
    "version": 3
   },
   "file_extension": ".py",
   "mimetype": "text/x-python",
   "name": "python",
   "nbconvert_exporter": "python",
   "pygments_lexer": "ipython3",
   "version": "3.10.12"
  }
 },
 "nbformat": 4,
 "nbformat_minor": 2
}
