{
 "cells": [
  {
   "cell_type": "code",
   "execution_count": null,
   "metadata": {},
   "outputs": [],
   "source": [
    "from searvey._chs_api import get_chs_stations\n",
    "\n",
    "all_stations = get_chs_stations()\n",
    "all_stations[\"timeSeries\"]\n",
    "#filter to show only rows that have operating column as True\n",
    "# df = all_stations\n",
    "# filtered_df = df[df[\"operating\"].str.contains(\"True\")]\n",
    "# filtered_df"
   ]
  },
  {
   "cell_type": "code",
   "execution_count": null,
   "metadata": {},
   "outputs": [],
   "source": [
    "import geopandas as gpd\n",
    "import hvplot.pandas\n",
    "import pandas as pd\n",
    "def plot_map(data, title):\n",
    "    # Plot the world map\n",
    "    world_plot = data.hvplot(geo=True, tiles=True, hover_cols=[\"id\",\"officialName\", \"latitude\", \"longitude\"], title=title)\n",
    "    return world_plot.opts(width=800, height=500)\n",
    "\n",
    "plot_map(all_stations, 'CHS Stations')"
   ]
  },
  {
   "cell_type": "code",
   "execution_count": null,
   "metadata": {},
   "outputs": [],
   "source": [
    "from shapely.geometry import box\n",
    "# Define a rectangular region\n",
    "region = box(-150, 40, -110, 60)  # Longitude range, Latitude range\n",
    "\n",
    "# Get stations within the region\n",
    "east_coast_stations = get_chs_stations(region=region)\n",
    "plot_map(east_coast_stations, 'CHS Stations on the East Coast of Canada')"
   ]
  },
  {
   "cell_type": "markdown",
   "metadata": {},
   "source": [
    "To get data from a specific station you need to input one of the codes below:\n",
    "wlo - Observed water level\n",
    "wlf or wlf-spine - predicted water levels (at operational stations only)\n",
    "wlp - Predicted water levels\n",
    "wlp-hilo High and low sea predictions (Tide tables)\n",
    "\n",
    "Note: Some stations may not support a specific code/type of data"
   ]
  },
  {
   "cell_type": "code",
   "execution_count": null,
   "metadata": {},
   "outputs": [],
   "source": [
    "# Define start and end dates for data retrieval\n",
    "start_date = \"2023-01-08\"\n",
    "end_date = \"2023-01-10\"\n",
    "from searvey._chs_api import fetch_chs_station\n",
    "# Get data for selected stations (mode = 'stdmet' for standard meteorological data)\n",
    "data_df = fetch_chs_station(\n",
    "    station_id=\"5cebf1e33d0f4a073c4bc23e\",\n",
    "    time_series_code=\"wlo\",\n",
    "    start_date=\"2023-01-08\",\n",
    "    end_date=\"2023-01-10\",\n",
    ")\n",
    "\n",
    "data_df"
   ]
  },
  {
   "cell_type": "code",
   "execution_count": null,
   "metadata": {},
   "outputs": [],
   "source": [
    "data_df[\"value\"].plot()"
   ]
  },
  {
   "cell_type": "code",
   "execution_count": null,
   "metadata": {},
   "outputs": [],
   "source": [
    "def plot(data_df):\n",
    "    return data_df[\"value\"].hvplot(title=\"CHS values\", xlabel=\"Index\", ylabel=\"Value\")\n",
    "\n",
    "plot(data_df)\n"
   ]
  }
 ],
 "metadata": {
  "kernelspec": {
   "display_name": "Python 3",
   "language": "python",
   "name": "python3"
  },
  "language_info": {
   "codemirror_mode": {
    "name": "ipython",
    "version": 3
   },
   "file_extension": ".py",
   "mimetype": "text/x-python",
   "name": "python",
   "nbconvert_exporter": "python",
   "pygments_lexer": "ipython3",
   "version": "3.10.12"
  }
 },
 "nbformat": 4,
 "nbformat_minor": 2
}
