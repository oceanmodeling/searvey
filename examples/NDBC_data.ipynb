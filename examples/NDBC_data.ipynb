{
 "cells": [
  {
   "cell_type": "code",
   "execution_count": null,
   "metadata": {},
   "outputs": [],
   "source": [
    "import logging\n",
    "\n",
    "import geopandas as gpd\n",
    "import hvplot.pandas\n",
    "import pandas as pd\n",
    "\n",
    "from searvey._ndbc_api import fetch_ndbc_station,get_ndbc_stations,_fetch_ndbc\n",
    "logging.basicConfig(\n",
    "    level=20,\n",
    "    style=\"{\",\n",
    "    format=\"{asctime:s}; {levelname:8s}; {threadName:23s}; {name:<25s} {lineno:5d}; {message:s}\",\n",
    ")\n",
    "\n",
    "logging.getLogger(\"urllib3\").setLevel(30)\n",
    "logging.getLogger(\"parso\").setLevel(30)\n",
    "\n",
    "logger = logging.getLogger(__name__)"
   ]
  },
  {
   "cell_type": "markdown",
   "metadata": {},
   "source": [
    "## Retrieve all NDBC stations"
   ]
  },
  {
   "cell_type": "code",
   "execution_count": null,
   "metadata": {},
   "outputs": [],
   "source": [
    "ndbc_stations = get_ndbc_stations()\n",
    "ndbc_stations"
   ]
  },
  {
   "cell_type": "markdown",
   "metadata": {},
   "source": [
    "## Visualize the location of the stations on a map"
   ]
  },
  {
   "cell_type": "code",
   "execution_count": null,
   "metadata": {},
   "outputs": [],
   "source": [
    "# Create the plot\n",
    "def plot_map(data, title):\n",
    "\n",
    "    # Plot the world map\n",
    "    world_plot = data.hvplot(geo=True, tiles=True, hover_cols=[\"Station\", \"location\"], title=title)\n",
    "    return world_plot.opts(width=800, height=500)\n",
    "\n",
    "\n",
    "plot_map(ndbc_stations, 'NDBC Stations Worldwide')"
   ]
  },
  {
   "cell_type": "markdown",
   "metadata": {},
   "source": [
    "## Get the stations from a specific region and visualize it in a map"
   ]
  },
  {
   "cell_type": "code",
   "execution_count": null,
   "metadata": {},
   "outputs": [],
   "source": [
    "from shapely.geometry import box\n",
    "# Define a rectangular region\n",
    "region = box(-85, 25, -65, 45)  # Longitude range, Latitude range\n",
    "\n",
    "# Get stations within the region\n",
    "east_coast_stations = get_ndbc_stations(region=region)\n",
    "plot_map(east_coast_stations, 'NDBC Stations on the East Coast of the US')"
   ]
  },
  {
   "cell_type": "markdown",
   "metadata": {},
   "source": [
    "Not all stations provide the same set of measurements, the following measurements are listed and which type of stations support them:\n",
    "\n",
    "```markdown\n",
    "\n",
    "| Package Name          | C-MAN  | Moored |\n",
    "|-----------------------|--------|--------|\n",
    "| adcp                  | [ ]    | [ ]    |\n",
    "| cwind                 | [X]    | [ ]    |\n",
    "| ocean                 | [ ]    | [ ]    |\n",
    "| spec                  | [ ]    | [ ]    |\n",
    "| stdmet                | [X]    | [ ]    |\n",
    "| supl                  | [ ]    | [X]    |\n",
    "| swden                 | [ ]    | [X]    |\n",
    "| swdir                 | [ ]    | [X]    |\n",
    "| swdir2                | [ ]    | [X]    |\n",
    "| swr1                  | [ ]    | [X]    |\n",
    "| swr2                  | [ ]    | [X]    |\n",
    "```\n",
    "\n",
    "\n",
    "(note: stations that are with only numbers are usually Moored Buoyse e.g. 44008 and stations with a mixture of numbers and letters are C-MAN owned e.g. BUZM3)\n",
    "C-MAN -> Numbers only\n",
    "Moored Buoyse -> numbers and letters\n",
    "\n",
    "The table was tested at the start of june 2024 and may differ as support for different stations status may change.\n",
    "\n",
    "Note: If an error is logged,it may be because one of the stations does not have the data of the mode\n",
    "\n",
    "If you need to access multiple stations youll need to use the internal method _fetch_ndbc that accepts a list of multiple stations and multiple start/end dates\n",
    "\n",
    "for more information:\n",
    "https://www.ndbc.noaa.gov/faq/measdes.shtml\n"
   ]
  },
  {
   "cell_type": "markdown",
   "metadata": {},
   "source": [
    "## Retrieve Data for Selected Stations"
   ]
  },
  {
   "cell_type": "code",
   "execution_count": null,
   "metadata": {},
   "outputs": [],
   "source": [
    "# Define start and end dates for data retrieval\n",
    "start_date = \"2023-01-01\"\n",
    "end_date = \"2023-01-10\"\n",
    "\n",
    "# Get data for selected stations (mode = 'stdmet' for standard meteorological data)\n",
    "data_df = fetch_ndbc_station(\n",
    "    station_id=\"SRST2\",\n",
    "    mode=\"stdmet\",\n",
    "    start_date=start_date,\n",
    "    end_date=end_date,\n",
    ")\n",
    "\n",
    "# Remove columns with all NaN values (unavailable data)\n",
    "data_df = data_df.dropna(axis=1, how='all')\n",
    "data_df"
   ]
  },
  {
   "cell_type": "markdown",
   "metadata": {},
   "source": [
    "## Plot the data of the dataframes"
   ]
  },
  {
   "cell_type": "code",
   "execution_count": null,
   "metadata": {},
   "outputs": [],
   "source": [
    "# Plot the data of data_to_plot\n",
    "data_df[[\"WSPD\", \"GST\", \"ATMP\"]].rename(columns={\"WSPD\": \"Wind Speed\", \"GST\": \"Wind Gust\", \"ATMP\": \"Air Temperature\"}).hvplot(grid=True)"
   ]
  },
  {
   "cell_type": "markdown",
   "metadata": {},
   "source": [
    "## Get data from multiple station id using the internal method\n",
    "\n",
    "The internal method supports multiple start dates, this system works exactly the same as other data sources, where each item in the dates arrays correspond to the item in the station id.\n",
    "\n",
    "In the example below, data between the days 2023-01-10 and 2023-01-12 is fetched for station SRST2, data between 2023-01-12 and 2023-01-20 is fetched for station AGXC1"
   ]
  },
  {
   "cell_type": "code",
   "execution_count": null,
   "metadata": {},
   "outputs": [],
   "source": [
    "#You can get the stations in the region and store it in a list,this example stores 2 stations in a list. This can be used in the fetch ndbc function to get data for the stations\n",
    "station_ids = east_coast_stations[\"Station\"].tolist()[1:3]\n",
    "\n",
    "data = _fetch_ndbc(\n",
    "    station_ids=[\"SRST2\",\"AGXC1\",\"BAXC1\"],\n",
    "    mode=\"stdmet\",\n",
    "    start_dates=[\"2023-01-10\", \"2023-01-12\", \"2023-01-14\"],\n",
    "    end_dates=[\"2023-01-12\", \"2023-01-20\", \"2023-01-30\"],\n",
    "    columns=[\"WSPD\", \"GST\", \"ATMP\"],\n",
    ")\n",
    "\n",
    "data\n",
    "#output is a dictionary of {station id : data}\n",
    "#data_df[\"SRST2\"] to get the data for station SRST2"
   ]
  },
  {
   "cell_type": "markdown",
   "metadata": {},
   "source": [
    "### discrete spectral parameters along the time"
   ]
  },
  {
   "cell_type": "code",
   "execution_count": null,
   "metadata": {},
   "outputs": [],
   "source": [
    "# Define start and end dates for data retrieval\n",
    "start_date = \"2023-06-26\"\n",
    "end_date = \"2024-07-03\"\n",
    "\n",
    "# Get data for selected stations (mode = 'stdmet' for standard meteorological data)\n",
    "data_df = fetch_ndbc_station(\n",
    "    station_ids=[\"42056\", \"42058\", \"42059\"],\n",
    "    mode=\"stdmet\",\n",
    "    start_date=start_date,\n",
    "    end_date=end_date,\n",
    ")\n",
    "\n",
    "#output is a dictionary of {station id : data}\n",
    "data_to_plot = data_df[\"42059\"]\n",
    "data_to_plot[[\"WVHT\",\"WSPD\"]].dropna().hvplot.line(xlabel='Time', title='Swell Wave Height')"
   ]
  },
  {
   "cell_type": "markdown",
   "metadata": {},
   "source": [
    "### plot of temporal variation of spectral density"
   ]
  },
  {
   "cell_type": "code",
   "execution_count": null,
   "metadata": {},
   "outputs": [],
   "source": [
    "# Define start and end dates for data retrieval\n",
    "start_date = \"2024-05-01\"\n",
    "end_date = \"2024-07-04\"\n",
    "\n",
    "# Get data for selected stations (mode = 'stdmet' for standard meteorological data)\n",
    "data_df = fetch_ndbc_station(\n",
    "    station_ids=[\"42059\"],\n",
    "    mode=\"swden\",\n",
    "    start_date=start_date,\n",
    "    end_date=end_date,\n",
    ")\n",
    "\n",
    "#output is a dictionary of {station id : data}\n",
    "data_to_plot = data_df[\"42059\"]\n",
    "data_to_plot.T.hvplot.heatmap(title = 'Wave Density evolution', cmap = 'rainbow4')"
   ]
  }
 ],
 "metadata": {
  "kernelspec": {
   "display_name": "Python 3 (ipykernel)",
   "language": "python",
   "name": "python3"
  },
  "language_info": {
   "codemirror_mode": {
    "name": "ipython",
    "version": 3
   },
   "file_extension": ".py",
   "mimetype": "text/x-python",
   "name": "python",
   "nbconvert_exporter": "python",
   "pygments_lexer": "ipython3",
   "version": "3.10.12"
  }
 },
 "nbformat": 4,
 "nbformat_minor": 4
}
