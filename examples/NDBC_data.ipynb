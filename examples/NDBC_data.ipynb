{
 "cells": [
  {
   "cell_type": "code",
   "execution_count": null,
   "metadata": {},
   "outputs": [],
   "source": [
    "import logging\n",
    "\n",
    "import geopandas as gpd\n",
    "import hvplot.pandas\n",
    "import pandas as pd\n",
    "\n",
    "from searvey._ndbc_api import fetch_ndbc_stations_data,get_ndbc_stations\n",
    "logging.basicConfig(\n",
    "    level=20,\n",
    "    style=\"{\",\n",
    "    format=\"{asctime:s}; {levelname:8s}; {threadName:23s}; {name:<25s} {lineno:5d}; {message:s}\",\n",
    ")\n",
    "\n",
    "logging.getLogger(\"urllib3\").setLevel(30)\n",
    "logging.getLogger(\"parso\").setLevel(30)\n",
    "\n",
    "logger = logging.getLogger(__name__)"
   ]
  },
  {
   "cell_type": "markdown",
   "metadata": {},
   "source": [
    "## Retrieve all NDBC stations"
   ]
  },
  {
   "cell_type": "code",
   "execution_count": null,
   "metadata": {},
   "outputs": [],
   "source": [
    "ndbc_stations = get_ndbc_stations()\n",
    "ndbc_stations"
   ]
  },
  {
   "cell_type": "markdown",
   "metadata": {},
   "source": [
    "## Visualize the location of the stations on a map"
   ]
  },
  {
   "cell_type": "code",
   "execution_count": null,
   "metadata": {},
   "outputs": [],
   "source": [
    "# Create the plot\n",
    "def plot_map(data, title):\n",
    "\n",
    "    # Plot the world map\n",
    "    world_plot = data.hvplot(geo=True, tiles=True, hover_cols=[\"Station\", \"location\"])\n",
    "    return world_plot.opts(width=800, height=500)\n",
    "\n",
    "\n",
    "plot_map(ndbc_stations, 'NDBC Stations Worldwide')"
   ]
  },
  {
   "cell_type": "markdown",
   "metadata": {},
   "source": [
    "## Get the stations from a specific region and vizulaise it in a map"
   ]
  },
  {
   "cell_type": "code",
   "execution_count": null,
   "metadata": {},
   "outputs": [],
   "source": [
    "from shapely.geometry import box\n",
    "# Define a rectangular region\n",
    "region = box(-85, 25, -65, 45)  # Longitude range, Latitude range\n",
    "\n",
    "# Get stations within the region\n",
    "east_coast_stations = get_ndbc_stations(region=region)\n",
    "plot_map(east_coast_stations, 'NDBC Stations on the East Coast of the US')"
   ]
  },
  {
   "cell_type": "markdown",
   "metadata": {},
   "source": [
    "Not all stations provide the same set of measurements, the following measurements are listed and which type of stations support them:\n",
    "\n",
    "```markdown\n",
    "\n",
    "| Package Name          | C-MAN  | Moored |\n",
    "|-----------------------|--------|--------|\n",
    "| adcp                  | [ ]    | [ ]    |\n",
    "| cwind                 | [X]    | [ ]    |\n",
    "| ocean                 | [ ]    | [ ]    |\n",
    "| spec                  | [ ]    | [ ]    |\n",
    "| stdmet                | [X]    | [ ]    |\n",
    "| supl                  | [ ]    | [X]    |\n",
    "| swden                 | [ ]    | [X]    |\n",
    "| swdir                 | [ ]    | [X]    |\n",
    "| swdir2                | [ ]    | [X]    |\n",
    "| swr1                  | [ ]    | [X]    |\n",
    "| swr2                  | [ ]    | [X]    |\n",
    "```\n",
    "\n",
    "\n",
    "(note: stations that are with only numbers are usually Moored Buoyse e.g. 44008 and stations with a mixture of numbers and letters are C-MAN owned e.g. BUZM3)\n",
    "C-MAN -> Numbers only\n",
    "Moored Buoyse -> numbers and letters\n",
    "\n",
    "The table was tested at the start of june 2024 and may differ as support for different stations status may change.\n",
    "\n",
    "Note: If an error is logged,it may be because one of the stations does not have the data of the mode\n"
   ]
  },
  {
   "cell_type": "markdown",
   "metadata": {},
   "source": [
    "## Retrieve Data for Selected Stations"
   ]
  },
  {
   "cell_type": "code",
   "execution_count": null,
   "metadata": {},
   "outputs": [],
   "source": [
    "# Define start and end dates for data retrieval\n",
    "start_date = \"2023-01-01\"\n",
    "end_date = \"2023-01-10\"\n",
    "\n",
    "# Get data for selected stations (mode = 'stdmet' for standard meteorological data)\n",
    "station_ids = east_coast_stations[\"Station\"].tolist()[1:3]\n",
    "data_df = fetch_ndbc_stations_data(\n",
    "    station_ids=[\"SRST2\",\"VENF1\"],\n",
    "    mode=\"stdmet\",\n",
    "    start_date=start_date,\n",
    "    end_date=end_date,\n",
    ")\n",
    "\n",
    "#output is a dictionary of {station id : data}\n",
    "data_to_plot = data_df[\"SRST2\"]\n",
    "data_to_plot"
   ]
  },
  {
   "cell_type": "markdown",
   "metadata": {},
   "source": [
    "## Plot the data of the dataframes"
   ]
  },
  {
   "cell_type": "code",
   "execution_count": null,
   "metadata": {},
   "outputs": [],
   "source": [
    "# Plot the data of data_to_plot\n",
    "data_to_plot[[\"WSPD\", \"GST\", \"ATMP\"]].rename(columns={\"WSPD\": \"Wind Speed\", \"GST\": \"Wind Gust\", \"ATMP\": \"Air Temperature\"}).hvplot(grid=True)"
   ]
  }
 ],
 "metadata": {
  "kernelspec": {
   "display_name": "Python 3 (ipykernel)",
   "language": "python",
   "name": "python3"
  },
  "language_info": {
   "codemirror_mode": {
    "name": "ipython",
    "version": 3
   },
   "file_extension": ".py",
   "mimetype": "text/x-python",
   "name": "python",
   "nbconvert_exporter": "python",
   "pygments_lexer": "ipython3",
   "version": "3.10.14"
  }
 },
 "nbformat": 4,
 "nbformat_minor": 4
}
