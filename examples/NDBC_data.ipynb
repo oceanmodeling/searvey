{
 "cells": [
  {
   "cell_type": "code",
   "execution_count": null,
   "metadata": {},
   "outputs": [],
   "source": [
    "import logging\n",
    "import geopandas as gpd\n",
    "import matplotlib.pyplot as plt\n",
    "import pandas as pd\n",
    "\n",
    "from searvey._ndbc_api import fetch_ndbc_stations_data,get_ndbc_stations\n",
    "logging.basicConfig(\n",
    "    level=20,\n",
    "    style=\"{\",\n",
    "    format=\"{asctime:s}; {levelname:8s}; {threadName:23s}; {name:<25s} {lineno:5d}; {message:s}\",\n",
    ")\n",
    "\n",
    "logging.getLogger(\"urllib3\").setLevel(30)\n",
    "logging.getLogger(\"parso\").setLevel(30)\n",
    "\n",
    "logger = logging.getLogger(__name__)"
   ]
  },
  {
   "cell_type": "markdown",
   "metadata": {},
   "source": [
    "## Retrieve all NDBC stations"
   ]
  },
  {
   "cell_type": "code",
   "execution_count": null,
   "metadata": {},
   "outputs": [],
   "source": [
    "ndbc_stations = get_ndbc_stations()\n",
    "ndbc_stations"
   ]
  },
  {
   "cell_type": "markdown",
   "metadata": {},
   "source": [
    "## Visualize the location of the stations on a map"
   ]
  },
  {
   "cell_type": "code",
   "execution_count": null,
   "metadata": {},
   "outputs": [],
   "source": [
    "# Create the plot\n",
    "def plot_map(data, title):\n",
    "    fig, ax = plt.subplots(1, 1)\n",
    "    fig.set_size_inches(12, 12 / 1.61803398875)\n",
    "\n",
    "    # Plot the world map\n",
    "    world = gpd.read_file(gpd.datasets.get_path('naturalearth_lowres'))\n",
    "    world.plot(color='lightgrey', ax=ax, zorder=-1)\n",
    "\n",
    "    # Plot the NDBC stations\n",
    "    data.plot(ax=ax, color='blue', markersize=5) \n",
    "\n",
    "    ax.set_title(title)\n",
    "    plt.show()\n",
    "\n",
    "plot_map(ndbc_stations, 'NDBC Stations Worldwide')"
   ]
  },
  {
   "cell_type": "markdown",
   "metadata": {},
   "source": [
    "## Get the stations from a specific region and vizulaise it in a map"
   ]
  },
  {
   "cell_type": "code",
   "execution_count": null,
   "metadata": {},
   "outputs": [],
   "source": [
    "from shapely.geometry import box\n",
    "# Define a rectangular region\n",
    "region = box(-85, 25, -65, 45)  # Longitude range, Latitude range\n",
    "\n",
    "# Get stations within the region\n",
    "east_coast_stations = get_ndbc_stations(region=region)\n",
    "plot_map(east_coast_stations, 'NDBC Stations on the East Coast of the US')"
   ]
  },
  {
   "cell_type": "markdown",
   "metadata": {},
   "source": [
    "Not all stations provide the same set of measurements, the following measurements are listed and which type of stations support them:\n",
    "\n",
    "```markdown\n",
    "\n",
    "| Package Name          | C-MAN  | Moored |\n",
    "|-----------------------|--------|--------|\n",
    "| adcp                  | [ ]    | [ ]    |\n",
    "| cwind                 | [X]    | [ ]    |\n",
    "| ocean                 | [ ]    | [ ]    |\n",
    "| spec                  | [ ]    | [ ]    |\n",
    "| stdmet                | [X]    | [ ]    |\n",
    "| supl                  | [ ]    | [X]    |\n",
    "| swden                 | [ ]    | [X]    |\n",
    "| swdir                 | [ ]    | [X]    |\n",
    "| swdir2                | [ ]    | [X]    |\n",
    "| swr1                  | [ ]    | [X]    |\n",
    "| swr2                  | [ ]    | [X]    |\n",
    "```\n",
    "\n",
    "\n",
    "(note: stations that are with only numbers are usually Moored Buoyse e.g. 44008 and stations with a mixture of numbers and letters are C-MAN owned e.g. BUZM3)\n",
    "C-MAN -> Numbers only\n",
    "Moored Buoyse -> numbers and letters\n",
    "\n",
    "The table was tested at the start of june 2024 and may differ as support for different stations status may change.\n",
    "\n",
    "Note: If an error is logged,it may be because one of the stations does not have the data of the mode\n"
   ]
  },
  {
   "cell_type": "markdown",
   "metadata": {},
   "source": [
    "## Retrieve Data for Selected Stations"
   ]
  },
  {
   "cell_type": "code",
   "execution_count": null,
   "metadata": {},
   "outputs": [],
   "source": [
    "# Define start and end dates for data retrieval\n",
    "start_date = \"2023-01-01\"\n",
    "end_date = \"2023-01-10\"\n",
    "\n",
    "# Get data for selected stations (mode = 'stdmet' for standard meteorological data)\n",
    "station_ids = east_coast_stations[\"Station\"].tolist()[1:3]\n",
    "data_df = fetch_ndbc_stations_data(\n",
    "    station_ids=[\"SRST2\",\"VENF1\"],\n",
    "    mode=\"stdmet\",\n",
    "    start_date=start_date,\n",
    "    end_date=end_date,\n",
    ")\n",
    "\n",
    "#output is a dictionary of {station id : data}\n",
    "data_to_plot = data_df[\"SRST2\"]\n",
    "data_to_plot"
   ]
  },
  {
   "cell_type": "markdown",
   "metadata": {},
   "source": [
    "## Plot the data of the dataframes"
   ]
  },
  {
   "cell_type": "code",
   "execution_count": null,
   "metadata": {},
   "outputs": [],
   "source": [
    "# Plot the data of data_to_plot\n",
    "fig, ax = plt.subplots(1, 1)\n",
    "fig.set_size_inches(12, 6)\n",
    "\n",
    "data_to_plot.plot(y=\"WSPD\", ax=ax, color=\"blue\", linestyle=\"-\", marker=\"o\", label=\"Wind Speed\")\n",
    "data_to_plot.plot(y=\"GST\", ax=ax, color=\"red\", linestyle=\"-\", marker=\"o\", label=\"Wind Gust\")\n",
    "data_to_plot.plot(y=\"ATMP\", ax=ax, color=\"orange\", linestyle=\"-\", marker=\"o\", label=\"Air Temperature\")"
   ]
  },
  {
   "cell_type": "code",
   "execution_count": null,
   "metadata": {},
   "outputs": [],
   "source": [
    "# Create a figure and three subplots\n",
    "fig, (ax1, ax2) = plt.subplots(nrows=2, figsize=(12, 8), sharex=True)\n",
    "\n",
    "# Plot WSPD\n",
    "ax1.plot(data_to_plot.index, data_to_plot['WSPD'], label='WSPD')\n",
    "ax1.set_ylabel('WSPD')\n",
    "ax1.legend()\n",
    "\n",
    "\n",
    "\n",
    "# Plot WTIME\n",
    "ax2.plot(data_to_plot.index, data_to_plot['WDIR'], label='WDIR')\n",
    "ax2.set_xlabel('Timestamp')\n",
    "ax2.set_ylabel('WDIR')\n",
    "ax2.legend()\n",
    "\n",
    "# Rotate x-axis labels for readability\n",
    "plt.xticks(rotation=45)\n",
    "\n",
    "# Adjust spacing between subplots\n",
    "plt.subplots_adjust(hspace=0.5)\n",
    "\n",
    "# Display the plot\n",
    "plt.show()"
   ]
  }
 ],
 "metadata": {
  "kernelspec": {
   "display_name": "Python 3",
   "language": "python",
   "name": "python3"
  },
  "language_info": {
   "codemirror_mode": {
    "name": "ipython",
    "version": 3
   },
   "file_extension": ".py",
   "mimetype": "text/x-python",
   "name": "python",
   "nbconvert_exporter": "python",
   "pygments_lexer": "ipython3",
   "version": "3.10.12"
  }
 },
 "nbformat": 4,
 "nbformat_minor": 2
}
