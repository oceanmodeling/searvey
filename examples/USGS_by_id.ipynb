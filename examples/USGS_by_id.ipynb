{
 "cells": [
  {
   "cell_type": "code",
   "execution_count": null,
   "id": "0",
   "metadata": {},
   "outputs": [],
   "source": [
    "from pathlib import Path\n",
    "\n",
    "import geopandas as gpd\n",
    "import hvplot.pandas\n",
    "import numpy as np\n",
    "import pandas as pd\n",
    "import xarray as xr\n",
    "\n",
    "from searvey import usgs"
   ]
  },
  {
   "cell_type": "code",
   "execution_count": null,
   "id": "1",
   "metadata": {},
   "outputs": [],
   "source": [
    "stations_ids = [\n",
    "    \"02136270\",\n",
    "    \"02171800\",\n",
    "    \"330428079214800\", \n",
    "    \"021720368\",\n",
    "    \"02172040\",\n",
    "]\n",
    "\n",
    "# or from a file:\n",
    "#stations = []\n",
    "#with open('USGSglist_ids.txt', 'r') as f:\n",
    "#    lines = f.readlines()\n",
    "#    stations = [i.strip() for i in lines]\n",
    "    \n",
    "stations_ids"
   ]
  },
  {
   "cell_type": "markdown",
   "id": "2",
   "metadata": {
    "tags": []
   },
   "source": [
    "## Retrieve station metadata from ID list"
   ]
  },
  {
   "cell_type": "code",
   "execution_count": null,
   "id": "3",
   "metadata": {
    "tags": []
   },
   "outputs": [],
   "source": [
    "all_usgs_stations = usgs.get_usgs_stations()\n",
    "\n",
    "\n",
    "usgs_stations = all_usgs_stations[all_usgs_stations.site_no.astype(str).isin(stations_ids)]\n",
    "\n",
    "# See the metadata for a couple of stations\n",
    "usgs_stations"
   ]
  },
  {
   "cell_type": "code",
   "execution_count": null,
   "id": "4",
   "metadata": {
    "tags": []
   },
   "outputs": [],
   "source": [
    "plot_df = usgs_stations.drop_duplicates(subset='site_no').dropna(subset=['site_no', 'dec_lat_va', 'dec_long_va'])\n",
    "world_plot = plot_df.hvplot(geo=True, tiles=True, hover_cols=[\"site_no\", \"location\"])\n",
    "world_plot.opts(width=800, height=500)"
   ]
  },
  {
   "cell_type": "markdown",
   "id": "5",
   "metadata": {},
   "source": [
    "## Retrieve USGS station data"
   ]
  },
  {
   "cell_type": "code",
   "execution_count": null,
   "id": "6",
   "metadata": {
    "tags": []
   },
   "outputs": [],
   "source": [
    "starttime = pd.to_datetime(\"2023-01-01T00:00:00.000-05:00\")\n",
    "endtime = pd.to_datetime(\"2023-11-10T23:59:59-05:00\")\n",
    "data = usgs.get_usgs_data(\n",
    "    usgs_metadata=usgs_stations,\n",
    "    endtime=endtime,\n",
    "    period=(endtime- starttime).days,\n",
    ")\n",
    "data"
   ]
  },
  {
   "cell_type": "markdown",
   "id": "7",
   "metadata": {},
   "source": [
    "### Filter data"
   ]
  },
  {
   "cell_type": "code",
   "execution_count": null,
   "id": "8",
   "metadata": {
    "tags": []
   },
   "outputs": [],
   "source": [
    "def drop_all_nan_coords(ds: xr.Dataset) -> xr.Dataset:\n",
    "    for coord in ds.coords:\n",
    "        ds = ds.isel({\n",
    "            coord: np.where(\n",
    "                ds.value.notnull().sum([dim for dim in ds.coords if dim != coord])\n",
    "            )[0]\n",
    "        })\n",
    "\n",
    "    return ds\n",
    "\n",
    "ds = data.sel(code='00065').sel(option='').squeeze().reset_coords()\n",
    "ds = drop_all_nan_coords(ds)\n",
    "ds"
   ]
  },
  {
   "cell_type": "markdown",
   "id": "9",
   "metadata": {},
   "source": [
    "### Plot data"
   ]
  },
  {
   "cell_type": "code",
   "execution_count": null,
   "id": "10",
   "metadata": {
    "tags": []
   },
   "outputs": [],
   "source": [
    "ds.to_dataframe().value.hvplot(by='site_no', grid=True)"
   ]
  },
  {
   "cell_type": "markdown",
   "id": "11",
   "metadata": {},
   "source": [
    "### Save to netcdf files\n",
    "The dataset format is taken from a user example"
   ]
  },
  {
   "cell_type": "code",
   "execution_count": null,
   "id": "12",
   "metadata": {},
   "outputs": [],
   "source": [
    "ft2m = 0.3048\n",
    "refTime = ds.datetime.data[0]\n",
    "\n",
    "outdir = Path('USGSdata')\n",
    "outdir.mkdir(exist_ok=True, parents=True)\n",
    "\n",
    "outfiles = []\n",
    "for st in ds.site_no:\n",
    "    outpath = f'{outdir}/gage{st.item()}.nc' \n",
    "    ds_st = ds.sel(site_no=st)\n",
    "\n",
    "    ds_new = xr.Dataset(\n",
    "        data_vars={\n",
    "            'longitude': ('point', [ds_st.lon.data]),\n",
    "            'latitude': ('point', [ds_st.lat.data]),\n",
    "            'time': ('t', pd.to_timedelta(ds_st.datetime.data - refTime).total_seconds() / 3600, {'units': 'hour'}),\n",
    "            'height': ('t', ds_st.value.data * ft2m, {'units': 'meter'}),\n",
    "            'Data-value-qualification': ('t', np.where(ds_st.qualifier == 'A', 1, 0)),\n",
    "        },\n",
    "        coords={\n",
    "            'point': [0],\n",
    "            't': np.arange(len(ds_st.datetime))\n",
    "        },\n",
    "        attrs={\n",
    "            'station ID': ds_st.site_no.item()\n",
    "        },\n",
    "    )\n",
    "    \n",
    "    ds_new.to_netcdf(outpath)\n",
    "    outfiles.append(outpath)"
   ]
  },
  {
   "cell_type": "markdown",
   "id": "13",
   "metadata": {},
   "source": [
    "### Readback the one of the netCDF files:"
   ]
  },
  {
   "cell_type": "code",
   "execution_count": null,
   "id": "14",
   "metadata": {},
   "outputs": [],
   "source": [
    "ds_rb = xr.open_dataset(outfiles[0])\n",
    "ds_rb"
   ]
  }
 ],
 "metadata": {
  "kernelspec": {
   "display_name": "Python 3 (ipykernel)",
   "language": "python",
   "name": "python3"
  },
  "language_info": {
   "codemirror_mode": {
    "name": "ipython",
    "version": 3
   },
   "file_extension": ".py",
   "mimetype": "text/x-python",
   "name": "python",
   "nbconvert_exporter": "python",
   "pygments_lexer": "ipython3",
   "version": "3.10.14"
  }
 },
 "nbformat": 4,
 "nbformat_minor": 5
}
