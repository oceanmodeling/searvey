{
 "cells": [
  {
   "cell_type": "code",
   "execution_count": null,
   "id": "54422136-2d5b-45e2-af23-9016c2a1e080",
   "metadata": {},
   "outputs": [],
   "source": [
    "from pathlib import Path\n",
    "\n",
    "import geopandas as gpd\n",
    "import numpy as np\n",
    "import pandas as pd\n",
    "import xarray as xr\n",
    "from matplotlib import pyplot as plt\n",
    "\n",
    "from searvey import usgs"
   ]
  },
  {
   "cell_type": "code",
   "execution_count": null,
   "id": "4f518d9c-2303-47ff-8ee5-9d5a012640e6",
   "metadata": {},
   "outputs": [],
   "source": [
    "stations_ids = [\n",
    "    \"02136270\",\n",
    "    \"02171800\",\n",
    "    \"330428079214800\", \n",
    "    \"021720368\",\n",
    "    \"02172040\",\n",
    "]\n",
    "\n",
    "# or from a file:\n",
    "#stations = []\n",
    "#with open('USGSglist_ids.txt', 'r') as f:\n",
    "#    lines = f.readlines()\n",
    "#    stations = [i.strip() for i in lines]\n",
    "    \n",
    "stations_ids"
   ]
  },
  {
   "cell_type": "markdown",
   "id": "d7dffd3f-6ce6-4671-bc9b-dc403d02f1de",
   "metadata": {
    "tags": []
   },
   "source": [
    "## Retrieve station metadata from ID list"
   ]
  },
  {
   "cell_type": "code",
   "execution_count": null,
   "id": "b173d550-af62-41be-bc42-918df1d66d65",
   "metadata": {
    "tags": []
   },
   "outputs": [],
   "source": [
    "all_usgs_stations = usgs.get_usgs_stations()\n",
    "\n",
    "\n",
    "usgs_stations = all_usgs_stations[all_usgs_stations.site_no.astype(str).isin(stations_ids)]\n",
    "\n",
    "# See the metadata for a couple of stations\n",
    "usgs_stations"
   ]
  },
  {
   "cell_type": "code",
   "execution_count": null,
   "id": "a0b6e6cb-efa9-48f3-8055-14091a47d793",
   "metadata": {
    "tags": []
   },
   "outputs": [],
   "source": [
    "figure, axis = plt.subplots(1, 1)\n",
    "figure.set_size_inches(12, 12 / 1.61803398875)\n",
    "\n",
    "countries = gpd.read_file(gpd.datasets.get_path(\"naturalearth_lowres\"))\n",
    "_ = countries.plot(color=\"lightgrey\", ax=axis, zorder=-1)\n",
    "_ = usgs_stations.plot(ax=axis)\n",
    "_ = axis.set_xlim(usgs_stations.total_bounds[0] - 1, usgs_stations.total_bounds[2] + 1)\n",
    "_ = axis.set_ylim(usgs_stations.total_bounds[1] - 1, usgs_stations.total_bounds[3] + 1)\n",
    "_ = axis.set_title(f\"USGS stations of interest\")"
   ]
  },
  {
   "cell_type": "markdown",
   "id": "6c10f76d-707c-4dc5-a016-7137b1bd7601",
   "metadata": {},
   "source": [
    "## Retrieve USGS station data"
   ]
  },
  {
   "cell_type": "code",
   "execution_count": null,
   "id": "0e14b584",
   "metadata": {
    "tags": []
   },
   "outputs": [],
   "source": [
    "starttime = pd.to_datetime(\"2023-01-01T00:00:00.000-05:00\")\n",
    "endtime = pd.to_datetime(\"2023-11-10T23:59:59-05:00\")\n",
    "data = usgs.get_usgs_data(\n",
    "    usgs_metadata=usgs_stations,\n",
    "    endtime=endtime,\n",
    "    period=(endtime- starttime).days,\n",
    ")\n",
    "data"
   ]
  },
  {
   "cell_type": "markdown",
   "id": "9bf47b23-fd41-441c-9aab-b33783bb250f",
   "metadata": {},
   "source": [
    "### Filter data"
   ]
  },
  {
   "cell_type": "code",
   "execution_count": null,
   "id": "10b199e4-1980-4319-8bda-b12f3124ab36",
   "metadata": {
    "tags": []
   },
   "outputs": [],
   "source": [
    "def drop_all_nan_coords(ds: xr.Dataset) -> xr.Dataset:\n",
    "    for coord in ds.coords:\n",
    "        ds = ds.isel({\n",
    "            coord: np.where(\n",
    "                ds.value.notnull().sum([dim for dim in ds.coords if dim != coord])\n",
    "            )[0]\n",
    "        })\n",
    "\n",
    "    return ds\n",
    "\n",
    "ds = data.sel(code='00065').sel(option='').squeeze().reset_coords()\n",
    "ds = drop_all_nan_coords(ds)\n",
    "ds"
   ]
  },
  {
   "cell_type": "markdown",
   "id": "8a6223f5-8f68-46c2-81a7-6d1c020749dc",
   "metadata": {},
   "source": [
    "### Plot data"
   ]
  },
  {
   "cell_type": "code",
   "execution_count": null,
   "id": "0a6b56d0",
   "metadata": {
    "tags": []
   },
   "outputs": [],
   "source": [
    "fig, axes = plt.subplots(1, 1)\n",
    "\n",
    "for st in ds.site_no:\n",
    "    da = ds.sel(site_no=st).reset_coords().value.dropna('datetime').astype('float64')\n",
    "    if da.size < 2:\n",
    "        continue\n",
    "\n",
    "    _ = da.plot(ax=axes, label=st.values)\n",
    "    _ = axes.legend(loc='center left', bbox_to_anchor=(1, 0.5))\n",
    "    _ = axes.set_ylabel(ds.name.values)\n"
   ]
  },
  {
   "cell_type": "markdown",
   "id": "255ebd6b-cbe7-4e9d-a61e-4a855f9bcb87",
   "metadata": {},
   "source": [
    "### Save to netcdf files\n",
    "The dataset format is taken from a user example"
   ]
  },
  {
   "cell_type": "code",
   "execution_count": null,
   "id": "e0ef24fd-4344-4fe1-9c44-c9e722ac0027",
   "metadata": {},
   "outputs": [],
   "source": [
    "ft2m = 0.3048\n",
    "refTime = ds.datetime.data[0]\n",
    "\n",
    "outdir = Path('USGSdata')\n",
    "outdir.mkdir(exist_ok=True, parents=True)\n",
    "\n",
    "outfiles = []\n",
    "for st in ds.site_no:\n",
    "    outpath = f'{outdir}/gage{st.item()}.nc' \n",
    "    ds_st = ds.sel(site_no=st)\n",
    "\n",
    "    ds_new = xr.Dataset(\n",
    "        data_vars={\n",
    "            'longitude': ('point', [ds_st.lon.data]),\n",
    "            'latitude': ('point', [ds_st.lat.data]),\n",
    "            'time': ('t', pd.to_timedelta(ds_st.datetime.data - refTime).total_seconds() / 3600, {'units': 'hour'}),\n",
    "            'height': ('t', ds_st.value.data * ft2m, {'units': 'meter'}),\n",
    "            'Data-value-qualification': ('t', np.where(ds_st.qualifier == 'A', 1, 0)),\n",
    "        },\n",
    "        coords={\n",
    "            'point': [0],\n",
    "            't': np.arange(len(ds_st.datetime))\n",
    "        },\n",
    "        attrs={\n",
    "            'station ID': ds_st.site_no.item()\n",
    "        },\n",
    "    )\n",
    "    \n",
    "    ds_new.to_netcdf(outpath)\n",
    "    outfiles.append(outpath)"
   ]
  },
  {
   "cell_type": "markdown",
   "id": "b6931e9d-5cb5-479e-9ee4-7002d0be821c",
   "metadata": {},
   "source": [
    "### Readback the one of the netCDF files:"
   ]
  },
  {
   "cell_type": "code",
   "execution_count": null,
   "id": "4f6a9953-2f8c-4629-aa7b-1ea8b951b9ca",
   "metadata": {},
   "outputs": [],
   "source": [
    "ds_rb = xr.open_dataset(outfiles[0])\n",
    "ds_rb"
   ]
  }
 ],
 "metadata": {
  "kernelspec": {
   "display_name": "searvey",
   "language": "python",
   "name": "searvey"
  },
  "language_info": {
   "codemirror_mode": {
    "name": "ipython",
    "version": 3
   },
   "file_extension": ".py",
   "mimetype": "text/x-python",
   "name": "python",
   "nbconvert_exporter": "python",
   "pygments_lexer": "ipython3",
   "version": "3.10.9"
  }
 },
 "nbformat": 4,
 "nbformat_minor": 5
}
