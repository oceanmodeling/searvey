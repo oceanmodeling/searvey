{
 "cells": [
  {
   "cell_type": "code",
   "execution_count": null,
   "id": "724e5b65",
   "metadata": {
    "tags": []
   },
   "outputs": [],
   "source": [
    "import logging\n",
    "from itertools import product\n",
    "\n",
    "import shapely\n",
    "import geopandas as gpd\n",
    "import matplotlib.pyplot as plt\n",
    "import numpy as np\n",
    "import pandas as pd\n",
    "import xarray as xr\n",
    "\n",
    "from searvey import usgs\n",
    "\n",
    "logging.basicConfig(\n",
    "    level=20,\n",
    "    style=\"{\",\n",
    "    format=\"{asctime:s}; {levelname:8s}; {threadName:23s}; {name:<25s} {lineno:5d}; {message:s}\",\n",
    ")\n",
    "\n",
    "logging.getLogger(\"urllib3\").setLevel(30)\n",
    "logging.getLogger(\"parso\").setLevel(30)\n",
    "\n",
    "logger = logging.getLogger(__name__)"
   ]
  },
  {
   "cell_type": "markdown",
   "id": "f3d14b77",
   "metadata": {
    "tags": []
   },
   "source": [
    "## Retrieve Station Metadata"
   ]
  },
  {
   "cell_type": "code",
   "execution_count": null,
   "id": "a204aec2",
   "metadata": {
    "tags": []
   },
   "outputs": [],
   "source": [
    "usgs_stations = usgs.get_usgs_stations()\n",
    "usgs_stations"
   ]
  },
  {
   "cell_type": "code",
   "execution_count": null,
   "id": "4e59396b",
   "metadata": {
    "tags": []
   },
   "outputs": [],
   "source": [
    "figure, axis = plt.subplots(1, 1)\n",
    "figure.set_size_inches(12, 12 / 1.61803398875)\n",
    "\n",
    "countries = gpd.read_file(gpd.datasets.get_path(\"naturalearth_lowres\"))\n",
    "_ = countries.plot(color=\"lightgrey\", ax=axis, zorder=-1)\n",
    "_ = usgs_stations.plot(ax=axis)\n",
    "_ = axis.set_xlim(usgs_stations.total_bounds[0] - 1, usgs_stations.total_bounds[2] + 1)\n",
    "_ = axis.set_ylim(usgs_stations.total_bounds[1] - 1, usgs_stations.total_bounds[3] + 1)\n",
    "_ = axis.set_title(f\"all USGS stations\")"
   ]
  },
  {
   "cell_type": "code",
   "execution_count": null,
   "id": "15f54339",
   "metadata": {
    "tags": []
   },
   "outputs": [],
   "source": [
    "usgs_stations.columns"
   ]
  },
  {
   "cell_type": "markdown",
   "id": "8ba13aa2",
   "metadata": {
    "tags": []
   },
   "source": [
    "## Retrieve station metadata from arbitrary polygon"
   ]
  },
  {
   "cell_type": "code",
   "execution_count": null,
   "id": "54da6995",
   "metadata": {
    "tags": []
   },
   "outputs": [],
   "source": [
    "us_northeast = shapely.geometry.box(-75, 40, -70, 45)\n",
    "us_northeast\n",
    "\n",
    "ne_stations = usgs.get_usgs_stations(region=us_northeast)\n",
    "ne_stations"
   ]
  },
  {
   "cell_type": "code",
   "execution_count": null,
   "id": "9b465177",
   "metadata": {
    "tags": []
   },
   "outputs": [],
   "source": [
    "ne_stations[ne_stations.begin_date > \"2022\"]"
   ]
  },
  {
   "cell_type": "markdown",
   "id": "004fcb16",
   "metadata": {},
   "source": [
    "## Retrieve USGS station data"
   ]
  },
  {
   "cell_type": "code",
   "execution_count": null,
   "id": "0e14b584",
   "metadata": {
    "tags": []
   },
   "outputs": [],
   "source": [
    "ne_data = usgs.get_usgs_data(\n",
    "    usgs_metadata=ne_stations,\n",
    "    endtime=\"2020-05-30\",\n",
    "    period=3,\n",
    ")\n",
    "ne_data"
   ]
  },
  {
   "cell_type": "code",
   "execution_count": null,
   "id": "10b199e4-1980-4319-8bda-b12f3124ab36",
   "metadata": {},
   "outputs": [],
   "source": [
    "def drop_all_nan_coords(ds: xr.Dataset) -> xr.Dataset:\n",
    "    for coord in ds.coords:\n",
    "        ds = ds.isel({\n",
    "            coord: np.where(\n",
    "                ds.value.notnull().sum([dim for dim in ds.coords if dim != coord])\n",
    "            )[0]\n",
    "        })\n",
    "\n",
    "    return ds\n",
    "\n",
    "ds = ne_data.isel(code=ne_data.name.str.contains('ocean')).sel(option='navd88').squeeze().reset_coords()\n",
    "ds = drop_all_nan_coords(ds)\n",
    "ds"
   ]
  },
  {
   "cell_type": "code",
   "execution_count": null,
   "id": "0a6b56d0",
   "metadata": {
    "tags": []
   },
   "outputs": [],
   "source": [
    "fig, axes = plt.subplots(1, 1)\n",
    "\n",
    "for st in ds.site_no:\n",
    "    da = ds.sel(site_no=st, code=cd).reset_coords().value.dropna('datetime').astype('float64')\n",
    "    if da.size < 2:\n",
    "        continue\n",
    "\n",
    "    _ = da.plot(ax=axes, label=st.values)\n",
    "    _ = axes.legend(loc='center left', bbox_to_anchor=(1, 0.5))\n",
    "    _ = axes.set_ylabel(ds.name.isel(code=0).values)\n"
   ]
  }
 ],
 "metadata": {
  "kernelspec": {
   "display_name": "searvey",
   "language": "python",
   "name": "searvey"
  },
  "language_info": {
   "codemirror_mode": {
    "name": "ipython",
    "version": 3
   },
   "file_extension": ".py",
   "mimetype": "text/x-python",
   "name": "python",
   "nbconvert_exporter": "python",
   "pygments_lexer": "ipython3",
   "version": "3.9.16"
  }
 },
 "nbformat": 4,
 "nbformat_minor": 5
}
