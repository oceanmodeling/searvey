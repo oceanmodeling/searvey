{
 "cells": [
  {
   "cell_type": "code",
   "execution_count": null,
   "id": "0",
   "metadata": {
    "tags": []
   },
   "outputs": [],
   "source": [
    "import logging\n",
    "from itertools import product\n",
    "from datetime import datetime, timedelta\n",
    "\n",
    "import shapely\n",
    "import hvplot.pandas\n",
    "import geopandas as gpd\n",
    "import numpy as np\n",
    "import pandas as pd\n",
    "import xarray as xr\n",
    "\n",
    "from searvey import usgs\n",
    "\n",
    "logging.basicConfig(\n",
    "    level=20,\n",
    "    style=\"{\",\n",
    "    format=\"{asctime:s}; {levelname:8s}; {threadName:23s}; {name:<25s} {lineno:5d}; {message:s}\",\n",
    ")\n",
    "\n",
    "logging.getLogger(\"urllib3\").setLevel(30)\n",
    "logging.getLogger(\"parso\").setLevel(30)\n",
    "\n",
    "logger = logging.getLogger(__name__)"
   ]
  },
  {
   "cell_type": "markdown",
   "id": "1",
   "metadata": {
    "tags": []
   },
   "source": [
    "## Retrieve Station Metadata"
   ]
  },
  {
   "cell_type": "code",
   "execution_count": null,
   "id": "2",
   "metadata": {
    "tags": []
   },
   "outputs": [],
   "source": [
    "usgs_stations = usgs.get_usgs_stations()\n",
    "usgs_stations"
   ]
  },
  {
   "cell_type": "code",
   "execution_count": null,
   "id": "3",
   "metadata": {
    "tags": []
   },
   "outputs": [],
   "source": [
    "plot_df = usgs_stations.drop_duplicates(subset='site_no').dropna(subset=['site_no', 'dec_lat_va', 'dec_long_va'])\n",
    "world_plot = plot_df.hvplot(geo=True, tiles=True, hover_cols=[\"site_no\", \"location\"])\n",
    "world_plot.opts(width=800, height=500)"
   ]
  },
  {
   "cell_type": "code",
   "execution_count": null,
   "id": "4",
   "metadata": {
    "tags": []
   },
   "outputs": [],
   "source": [
    "usgs_stations.columns"
   ]
  },
  {
   "cell_type": "markdown",
   "id": "5",
   "metadata": {
    "tags": []
   },
   "source": [
    "## Retrieve station metadata from arbitrary polygon"
   ]
  },
  {
   "cell_type": "code",
   "execution_count": null,
   "id": "6",
   "metadata": {
    "tags": []
   },
   "outputs": [],
   "source": [
    "us_northeast = shapely.geometry.box(-75, 35, -60, 40)\n",
    "us_northeast\n",
    "\n",
    "ne_stations = usgs.get_usgs_stations(region=us_northeast)\n",
    "ne_stations"
   ]
  },
  {
   "cell_type": "code",
   "execution_count": null,
   "id": "7",
   "metadata": {
    "tags": []
   },
   "outputs": [],
   "source": [
    "ne_stations[ne_stations.begin_date > \"2022\"]"
   ]
  },
  {
   "cell_type": "markdown",
   "id": "8",
   "metadata": {},
   "source": [
    "## Retrieve USGS station data"
   ]
  },
  {
   "cell_type": "code",
   "execution_count": null,
   "id": "9",
   "metadata": {
    "tags": []
   },
   "outputs": [],
   "source": [
    "ne_data = usgs.get_usgs_data(\n",
    "    usgs_metadata=ne_stations,\n",
    "    endtime=\"2020-01-30\",\n",
    "    period=3,\n",
    ")\n",
    "ne_data"
   ]
  },
  {
   "cell_type": "code",
   "execution_count": null,
   "id": "10",
   "metadata": {
    "tags": []
   },
   "outputs": [],
   "source": [
    "def drop_all_nan_coords(ds: xr.Dataset) -> xr.Dataset:\n",
    "    for coord in ds.coords:\n",
    "        ds = ds.isel({\n",
    "            coord: np.where(\n",
    "                ds.value.notnull().sum([dim for dim in ds.coords if dim != coord])\n",
    "            )[0]\n",
    "        })\n",
    "\n",
    "    return ds\n",
    "\n",
    "ds = ne_data.isel(code=ne_data.name.str.contains('Tidal')).sel(option='').squeeze().reset_coords()\n",
    "ds = drop_all_nan_coords(ds)\n",
    "ds"
   ]
  },
  {
   "cell_type": "code",
   "execution_count": null,
   "id": "11",
   "metadata": {
    "tags": []
   },
   "outputs": [],
   "source": [
    "ds.to_dataframe().value.dropna().hvplot(by='site_no', grid=True)"
   ]
  }
 ],
 "metadata": {
  "kernelspec": {
   "display_name": "Python 3 (ipykernel)",
   "language": "python",
   "name": "python3"
  },
  "language_info": {
   "codemirror_mode": {
    "name": "ipython",
    "version": 3
   },
   "file_extension": ".py",
   "mimetype": "text/x-python",
   "name": "python",
   "nbconvert_exporter": "python",
   "pygments_lexer": "ipython3",
   "version": "3.10.14"
  }
 },
 "nbformat": 4,
 "nbformat_minor": 5
}
