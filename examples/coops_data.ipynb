{
 "cells": [
  {
   "cell_type": "markdown",
   "metadata": {
    "pycharm": {
     "name": "#%% md\n"
    }
   },
   "source": [
    "# Retrieve CO-OPS data from an arbitrary time interval and region"
   ]
  },
  {
   "cell_type": "code",
   "execution_count": null,
   "metadata": {
    "tags": []
   },
   "outputs": [],
   "source": [
    "from datetime import datetime\n",
    "\n",
    "import searvey\n",
    "import geopandas\n",
    "import hvplot.pandas\n",
    "import pandas as pd\n",
    "import pytz\n",
    "import shapely\n",
    "from multifutures import multiprocess\n",
    "from searvey.coops import get_coops_stations\n",
    "from searvey._coops_api import fetch_coops_station"
   ]
  },
  {
   "cell_type": "markdown",
   "metadata": {
    "pycharm": {
     "name": "#%% md\n"
    }
   },
   "source": [
    "# retrieve a [list of CO-OPS stations](https://searvey.readthedocs.io/en/latest/coops.html#searvey.coops.coops_stations)"
   ]
  },
  {
   "cell_type": "code",
   "execution_count": null,
   "metadata": {
    "pycharm": {
     "name": "#%%\n"
    },
    "tags": []
   },
   "outputs": [],
   "source": [
    "all_stations = get_coops_stations(metadata_source='main')\n",
    "all_stations"
   ]
  },
  {
   "cell_type": "code",
   "execution_count": null,
   "metadata": {
    "pycharm": {
     "name": "#%%\n"
    },
    "tags": []
   },
   "outputs": [],
   "source": [
    "world_plot = all_stations.hvplot(geo=True, tiles=True, hover_cols=[\"nos_id\", \"location\"])\n",
    "world_plot.opts(width=800, height=500)"
   ]
  },
  {
   "cell_type": "markdown",
   "metadata": {
    "pycharm": {
     "name": "#%% md\n"
    }
   },
   "source": [
    "# retrieve a [list of CO-OPS stations within an arbitrary polygon](https://searvey.readthedocs.io/en/latest/coops.html#searvey.coops.coops_stations_within_region)"
   ]
  },
  {
   "cell_type": "code",
   "execution_count": null,
   "metadata": {
    "pycharm": {
     "name": "#%%\n"
    },
    "tags": []
   },
   "outputs": [],
   "source": [
    "# This is the actualBBox of the east coast, but this takes too long to retrieve.\n",
    "# Since we execute this notebook on CI, let's actually use Florida\n",
    "#east_coast = shapely.geometry.box(-85, 25, -65, 45)\n",
    "east_coast = shapely.geometry.box(-85, 25, -65, 30)\n",
    "east_coast_stations = get_coops_stations(metadata_source='main', region=east_coast)\n",
    "east_coast_stations\n",
    "east_coast_stations.hvplot(geo=True, tiles=True, hover_cols=[\"nos_id\", \"location\"])"
   ]
  },
  {
   "cell_type": "code",
   "execution_count": null,
   "metadata": {
    "pycharm": {
     "name": "#%%\n"
    },
    "tags": []
   },
   "outputs": [],
   "source": [
    "east_coast_stations.hvplot(geo=True, tiles=True, by='status', legend=True, title='CO-OPS stations on the U.S. East Coast')"
   ]
  },
  {
   "cell_type": "markdown",
   "metadata": {
    "pycharm": {
     "name": "#%% md\n"
    }
   },
   "source": [
    "# retrieve a CO-OPS data product from a [specific station](https://searvey.readthedocs.io/en/latest/coops.html#searvey.coops.COOPS_Station)"
   ]
  },
  {
   "cell_type": "code",
   "execution_count": null,
   "metadata": {
    "jupyter": {
     "outputs_hidden": false
    },
    "pycharm": {
     "name": "#%%\n"
    },
    "tags": []
   },
   "outputs": [],
   "source": [
    "station_id = '1612480'\n",
    "station_water_levels = fetch_coops_station(\n",
    "    station_id=station_id,\n",
    "    start_date=datetime(2022, 4, 2, 12, tzinfo=pytz.utc),\n",
    "    end_date=datetime(2022, 4, 2, 12, 30, tzinfo=pytz.utc),\n",
    "    product='water_level',\n",
    ")\n",
    "station_water_levels"
   ]
  },
  {
   "cell_type": "code",
   "execution_count": null,
   "metadata": {
    "jupyter": {
     "outputs_hidden": false
    },
    "pycharm": {
     "name": "#%%\n"
    },
    "tags": []
   },
   "outputs": [],
   "source": [
    "timeseries_plot = (\n",
    "    station_water_levels.hvplot(x='time', y='value')\n",
    "    * station_water_levels.hvplot.errorbars(x='time', y='value', yerr1='sigma')\n",
    ")\n",
    "start_date = pd.to_datetime(station_water_levels.index.min())\n",
    "end_date = pd.to_datetime(station_water_levels.index.max())\n",
    "timeseries_plot.opts(title=f'water level observed by CO-OPS station {station_id} between {start_date} and {end_date}')"
   ]
  },
  {
   "cell_type": "markdown",
   "metadata": {},
   "source": [
    "# retrieve a CO-OPS data product from a lsit of stations"
   ]
  },
  {
   "cell_type": "code",
   "execution_count": null,
   "metadata": {},
   "outputs": [],
   "source": [
    "stations = east_coast_stations[(east_coast_stations.status == 'active') & (east_coast_stations.station_type == 'waterlevels')]\n",
    "station_water_levels = pd.concat(\n",
    "    [\n",
    "        result.result for result in multiprocess(\n",
    "            fetch_coops_station,\n",
    "            [\n",
    "                {\n",
    "                    'station_id': nos_id,\n",
    "                    'start_date': datetime(2022, 4, 2, 12, tzinfo=pytz.utc),\n",
    "                    'end_date': datetime(2022, 4, 2, 12, 30, tzinfo=pytz.utc),\n",
    "                    'product': 'water_level',\n",
    "                } for nos_id, _ in stations.iterrows()\n",
    "            ],\n",
    "        ) \n",
    "    ],\n",
    "    keys=[nos_id for nos_id, _ in stations.iterrows()],\n",
    "    names=['nos_id', 'time']\n",
    ")\n",
    "station_water_levels"
   ]
  },
  {
   "cell_type": "markdown",
   "metadata": {
    "pycharm": {
     "name": "#%% md\n"
    }
   },
   "source": [
    "# additional documentation\n",
    "## https://searvey.readthedocs.io\n",
    "## https://github.com/oceanmodeling/searvey\n"
   ]
  }
 ],
 "metadata": {
  "kernelspec": {
   "display_name": "Python 3 (ipykernel)",
   "language": "python",
   "name": "python3"
  },
  "language_info": {
   "codemirror_mode": {
    "name": "ipython",
    "version": 3
   },
   "file_extension": ".py",
   "mimetype": "text/x-python",
   "name": "python",
   "nbconvert_exporter": "python",
   "pygments_lexer": "ipython3",
   "version": "3.10.14"
  }
 },
 "nbformat": 4,
 "nbformat_minor": 4
}
