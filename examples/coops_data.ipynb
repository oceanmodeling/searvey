{
 "cells": [
  {
   "cell_type": "markdown",
   "metadata": {
    "pycharm": {
     "name": "#%% md\n"
    }
   },
   "source": [
    "# Retrieve CO-OPS data from an arbitrary time interval and region"
   ]
  },
  {
   "cell_type": "code",
   "execution_count": null,
   "metadata": {
    "tags": []
   },
   "outputs": [],
   "source": [
    "import searvey"
   ]
  },
  {
   "cell_type": "code",
   "execution_count": null,
   "metadata": {
    "pycharm": {
     "name": "#%%\n"
    },
    "tags": []
   },
   "outputs": [],
   "source": [
    "import geopandas\n",
    "from matplotlib import pyplot\n",
    "\n",
    "countries = geopandas.read_file('https://naciscdn.org/naturalearth/110m/cultural/ne_110m_admin_0_countries.zip')"
   ]
  },
  {
   "cell_type": "markdown",
   "metadata": {
    "pycharm": {
     "name": "#%% md\n"
    }
   },
   "source": [
    "# retrieve a [list of CO-OPS stations](https://searvey.readthedocs.io/en/latest/coops.html#searvey.coops.coops_stations)"
   ]
  },
  {
   "cell_type": "code",
   "execution_count": null,
   "metadata": {
    "pycharm": {
     "name": "#%%\n"
    },
    "tags": []
   },
   "outputs": [],
   "source": [
    "from searvey.coops import get_coops_stations\n",
    "\n",
    "all_stations = get_coops_stations(metadata_source='main')\n",
    "all_stations"
   ]
  },
  {
   "cell_type": "code",
   "execution_count": null,
   "metadata": {
    "pycharm": {
     "name": "#%%\n"
    },
    "tags": []
   },
   "outputs": [],
   "source": [
    "figure, axis = pyplot.subplots(1, 1)\n",
    "figure.set_size_inches(12, 12 / 1.61803398875)\n",
    "\n",
    "all_stations.drop_duplicates().plot(ax=axis, column='status', legend=True)\n",
    "countries.plot(color='lightgrey', ax=axis, zorder=-1)\n",
    "\n",
    "axis.set_title(f'all CO-OPS stations')"
   ]
  },
  {
   "cell_type": "markdown",
   "metadata": {
    "pycharm": {
     "name": "#%% md\n"
    }
   },
   "source": [
    "# retrieve a [list of CO-OPS stations within an arbitrary polygon](https://searvey.readthedocs.io/en/latest/coops.html#searvey.coops.coops_stations_within_region)"
   ]
  },
  {
   "cell_type": "code",
   "execution_count": null,
   "metadata": {
    "pycharm": {
     "name": "#%%\n"
    },
    "tags": []
   },
   "outputs": [],
   "source": [
    "import shapely\n",
    "\n",
    "# This is the actualBBox of the east coast, but this takes too long to retrieve.\n",
    "# Since we execute this notebook on CI, let's actually use Florida\n",
    "#east_coast = shapely.geometry.box(-85, 25, -65, 45)\n",
    "east_coast = shapely.geometry.box(-85, 25, -65, 30)\n",
    "east_coast_stations = get_coops_stations(metadata_source='main', region=east_coast)\n",
    "east_coast_stations"
   ]
  },
  {
   "cell_type": "code",
   "execution_count": null,
   "metadata": {
    "pycharm": {
     "name": "#%%\n"
    },
    "tags": []
   },
   "outputs": [],
   "source": [
    "figure, axis = pyplot.subplots(1, 1)\n",
    "figure.set_size_inches(12, 12 / 1.61803398875)\n",
    "\n",
    "east_coast_stations.plot(ax=axis, column='status', legend=True)\n",
    "\n",
    "xlim = axis.get_xlim()\n",
    "ylim = axis.get_ylim()\n",
    "countries.plot(color='lightgrey', ax=axis, zorder=-1)\n",
    "axis.set_xlim(xlim)\n",
    "axis.set_ylim(ylim)\n",
    "\n",
    "axis.set_title(f'CO-OPS stations on the U.S. East Coast')"
   ]
  },
  {
   "cell_type": "markdown",
   "metadata": {
    "pycharm": {
     "name": "#%% md\n"
    }
   },
   "source": [
    "# retrieve a CO-OPS data product from a [specific station](https://searvey.readthedocs.io/en/latest/coops.html#searvey.coops.COOPS_Station)"
   ]
  },
  {
   "cell_type": "code",
   "execution_count": null,
   "metadata": {
    "jupyter": {
     "outputs_hidden": false
    },
    "pycharm": {
     "name": "#%%\n"
    },
    "tags": []
   },
   "outputs": [],
   "source": [
    "import pytz\n",
    "from datetime import datetime\n",
    "from searvey._coops_api import fetch_coops_station\n",
    "\n",
    "station_id = '1612480'\n",
    "station_water_levels = fetch_coops_station(\n",
    "    station_id=station_id,\n",
    "    start_date=datetime(2022, 4, 2, 12, tzinfo=pytz.utc),\n",
    "    end_date=datetime(2022, 4, 2, 12, 30, tzinfo=pytz.utc),\n",
    "    product='water_level',\n",
    ")\n",
    "station_water_levels"
   ]
  },
  {
   "cell_type": "code",
   "execution_count": null,
   "metadata": {
    "jupyter": {
     "outputs_hidden": false
    },
    "pycharm": {
     "name": "#%%\n"
    },
    "tags": []
   },
   "outputs": [],
   "source": [
    "import pandas as pd\n",
    "\n",
    "figure, axis = pyplot.subplots(1, 1)\n",
    "figure.set_size_inches(12, 12 / 1.61803398875)\n",
    "\n",
    "axis.errorbar(\n",
    "    station_water_levels.index,\n",
    "    station_water_levels['value'],\n",
    "    yerr=station_water_levels['sigma'].values,\n",
    ")\n",
    "\n",
    "start_date = pd.to_datetime(station_water_levels.index.min())\n",
    "end_date = pd.to_datetime(station_water_levels.index.max())\n",
    "axis.set_title(f'water level observed by CO-OPS station {station_id} between {start_date} and {end_date}')"
   ]
  },
  {
   "cell_type": "markdown",
   "metadata": {},
   "source": [
    "# retrieve a CO-OPS data product from a lsit of stations"
   ]
  },
  {
   "cell_type": "code",
   "execution_count": null,
   "metadata": {},
   "outputs": [],
   "source": [
    "from multifutures import multiprocess\n",
    "\n",
    "stations = east_coast_stations[(east_coast_stations.status == 'active') & (east_coast_stations.station_type == 'waterlevels')]\n",
    "station_water_levels = pd.concat(\n",
    "    [\n",
    "        result.result for result in multiprocess(\n",
    "            fetch_coops_station,\n",
    "            [\n",
    "                {\n",
    "                    'station_id': nos_id,\n",
    "                    'start_date': datetime(2022, 4, 2, 12, tzinfo=pytz.utc),\n",
    "                    'end_date': datetime(2022, 4, 2, 12, 30, tzinfo=pytz.utc),\n",
    "                    'product': 'water_level',\n",
    "                } for nos_id, _ in stations.iterrows()\n",
    "            ],\n",
    "        ) \n",
    "    ],\n",
    "    keys=[nos_id for nos_id, _ in stations.iterrows()],\n",
    "    names=['nos_id', 'time']\n",
    ")\n",
    "station_water_levels"
   ]
  },
  {
   "cell_type": "markdown",
   "metadata": {
    "pycharm": {
     "name": "#%% md\n"
    }
   },
   "source": [
    "# additional documentation\n",
    "## https://searvey.readthedocs.io\n",
    "## https://github.com/oceanmodeling/searvey\n"
   ]
  }
 ],
 "metadata": {
  "kernelspec": {
   "display_name": "Python 3 (ipykernel)",
   "language": "python",
   "name": "python3"
  },
  "language_info": {
   "codemirror_mode": {
    "name": "ipython",
    "version": 3
   },
   "file_extension": ".py",
   "mimetype": "text/x-python",
   "name": "python",
   "nbconvert_exporter": "python",
   "pygments_lexer": "ipython3",
   "version": "3.10.14"
  }
 },
 "nbformat": 4,
 "nbformat_minor": 4
}
