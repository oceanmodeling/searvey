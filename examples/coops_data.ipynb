{
 "cells": [
  {
   "cell_type": "markdown",
   "metadata": {
    "pycharm": {
     "name": "#%% md\n"
    }
   },
   "source": [
    "# Retrieve CO-OPS data from an arbitrary time interval and region"
   ]
  },
  {
   "cell_type": "code",
   "execution_count": null,
   "metadata": {},
   "outputs": [],
   "source": [
    "import searvey"
   ]
  },
  {
   "cell_type": "code",
   "execution_count": null,
   "metadata": {
    "pycharm": {
     "name": "#%%\n"
    }
   },
   "outputs": [],
   "source": [
    "import geopandas\n",
    "from matplotlib import pyplot\n",
    "\n",
    "countries = geopandas.read_file(geopandas.datasets.get_path('naturalearth_lowres'))"
   ]
  },
  {
   "cell_type": "markdown",
   "metadata": {
    "pycharm": {
     "name": "#%% md\n"
    }
   },
   "source": [
    "# retrieve a [list of CO-OPS stations](https://searvey.readthedocs.io/en/latest/coops.html#searvey.coops.coops_stations)"
   ]
  },
  {
   "cell_type": "code",
   "execution_count": null,
   "metadata": {
    "pycharm": {
     "name": "#%%\n"
    }
   },
   "outputs": [],
   "source": [
    "from searvey.coops import coops_stations\n",
    "\n",
    "stations = coops_stations()\n",
    "stations"
   ]
  },
  {
   "cell_type": "code",
   "execution_count": null,
   "metadata": {
    "pycharm": {
     "name": "#%%\n"
    }
   },
   "outputs": [],
   "source": [
    "figure, axis = pyplot.subplots(1, 1)\n",
    "figure.set_size_inches(12, 12 / 1.61803398875)\n",
    "\n",
    "stations.plot(ax=axis)\n",
    "countries.plot(color='lightgrey', ax=axis, zorder=-1)\n",
    "\n",
    "axis.set_title(f'all CO-OPS stations')"
   ]
  },
  {
   "cell_type": "markdown",
   "metadata": {
    "pycharm": {
     "name": "#%% md\n"
    }
   },
   "source": [
    "# retrieve a [list of CO-OPS stations within an arbitrary polygon](https://searvey.readthedocs.io/en/latest/coops.html#searvey.coops.coops_stations_within_region)"
   ]
  },
  {
   "cell_type": "code",
   "execution_count": null,
   "metadata": {
    "pycharm": {
     "name": "#%%\n"
    }
   },
   "outputs": [],
   "source": [
    "import shapely\n",
    "from searvey.coops import coops_stations_within_region\n",
    "\n",
    "east_coast = shapely.geometry.box(-85, 25, -65, 45)\n",
    "east_coast_stations = coops_stations_within_region(region=east_coast)\n",
    "east_coast_stations"
   ]
  },
  {
   "cell_type": "code",
   "execution_count": null,
   "metadata": {
    "pycharm": {
     "name": "#%%\n"
    }
   },
   "outputs": [],
   "source": [
    "figure, axis = pyplot.subplots(1, 1)\n",
    "figure.set_size_inches(12, 12 / 1.61803398875)\n",
    "\n",
    "east_coast_stations.plot(ax=axis)\n",
    "\n",
    "xlim = axis.get_xlim()\n",
    "ylim = axis.get_ylim()\n",
    "countries.plot(color='lightgrey', ax=axis, zorder=-1)\n",
    "axis.set_xlim(xlim)\n",
    "axis.set_ylim(ylim)\n",
    "\n",
    "axis.set_title(f'CO-OPS stations on the U.S. East Coast')"
   ]
  },
  {
   "cell_type": "markdown",
   "metadata": {
    "pycharm": {
     "name": "#%% md\n"
    }
   },
   "source": [
    "# retrieve a [CO-OPS data product from all stations within an arbitrary polygon](https://searvey.readthedocs.io/en/latest/coops.html#searvey.coops.coops_product_within_region)"
   ]
  },
  {
   "cell_type": "code",
   "execution_count": null,
   "metadata": {
    "jupyter": {
     "outputs_hidden": false
    },
    "pycharm": {
     "name": "#%%\n"
    }
   },
   "outputs": [],
   "source": [
    "from datetime import datetime\n",
    "from searvey.coops import coops_product_within_region\n",
    "\n",
    "water_levels = coops_product_within_region(\n",
    "    'water_level',\n",
    "    region=east_coast,\n",
    "    start_date=datetime(2022, 4, 2, 12),\n",
    "    end_date=datetime(2022, 4, 2, 12, 30),\n",
    ")\n",
    "water_levels"
   ]
  },
  {
   "cell_type": "code",
   "execution_count": null,
   "metadata": {
    "jupyter": {
     "outputs_hidden": false
    },
    "pycharm": {
     "name": "#%%\n"
    }
   },
   "outputs": [],
   "source": [
    "import pandas\n",
    "\n",
    "figure, axis = pyplot.subplots(1, 1)\n",
    "figure.set_size_inches(12, 12 / 1.61803398875)\n",
    "\n",
    "water_levels.max('t').plot.scatter(x='x', y='y', hue='v', cmap='viridis', ax=axis)\n",
    "\n",
    "xlim = axis.get_xlim()\n",
    "ylim = axis.get_ylim()\n",
    "countries.plot(color='lightgrey', ax=axis, zorder=-1)\n",
    "axis.set_xlim(xlim)\n",
    "axis.set_ylim(ylim)\n",
    "\n",
    "start_date = pandas.to_datetime(water_levels['t'].min().values)\n",
    "end_date = pandas.to_datetime(water_levels['t'].max().values)\n",
    "axis.set_title(f'maximum water levels observed by CO-OPS stations on the U.S. East Coast between {start_date} and {end_date}')"
   ]
  },
  {
   "cell_type": "markdown",
   "metadata": {
    "pycharm": {
     "name": "#%% md\n"
    }
   },
   "source": [
    "# retrieve a CO-OPS data product from a [specific station](https://searvey.readthedocs.io/en/latest/coops.html#searvey.coops.COOPS_Station)"
   ]
  },
  {
   "cell_type": "code",
   "execution_count": null,
   "metadata": {
    "jupyter": {
     "outputs_hidden": false
    },
    "pycharm": {
     "name": "#%%\n"
    }
   },
   "outputs": [],
   "source": [
    "from searvey.coops import COOPS_Station\n",
    "\n",
    "station = COOPS_Station(1612480)\n",
    "station_water_levels = station.product(\n",
    "    'water_level',\n",
    "    start_date=datetime(2022, 4, 2, 12),\n",
    "    end_date=datetime(2022, 4, 2, 12, 30),\n",
    ")\n",
    "station_water_levels"
   ]
  },
  {
   "cell_type": "code",
   "execution_count": null,
   "metadata": {
    "jupyter": {
     "outputs_hidden": false
    },
    "pycharm": {
     "name": "#%%\n"
    }
   },
   "outputs": [],
   "source": [
    "figure, axis = pyplot.subplots(1, 1)\n",
    "figure.set_size_inches(12, 12 / 1.61803398875)\n",
    "\n",
    "axis.errorbar(\n",
    "    station_water_levels['t'],\n",
    "    station_water_levels['v'].isel(nos_id=0),\n",
    "    yerr=station_water_levels['s'].isel(nos_id=0).values,\n",
    ")\n",
    "\n",
    "start_date = pandas.to_datetime(station_water_levels['t'].min().values)\n",
    "end_date = pandas.to_datetime(station_water_levels['t'].max().values)\n",
    "axis.set_title(f'water level observed by CO-OPS station {station.id} (\"{station.name}\") between {start_date} and {end_date}')"
   ]
  },
  {
   "cell_type": "markdown",
   "metadata": {
    "pycharm": {
     "name": "#%% md\n"
    }
   },
   "source": [
    "# additional documentation\n",
    "## https://searvey.readthedocs.io\n",
    "## https://github.com/oceanmodeling/searvey\n"
   ]
  }
 ],
 "metadata": {
  "kernelspec": {
   "display_name": "searvey",
   "language": "python",
   "name": "searvey"
  },
  "language_info": {
   "codemirror_mode": {
    "name": "ipython",
    "version": 3
   },
   "file_extension": ".py",
   "mimetype": "text/x-python",
   "name": "python",
   "nbconvert_exporter": "python",
   "pygments_lexer": "ipython3",
   "version": "3.9.16"
  }
 },
 "nbformat": 4,
 "nbformat_minor": 4
}
